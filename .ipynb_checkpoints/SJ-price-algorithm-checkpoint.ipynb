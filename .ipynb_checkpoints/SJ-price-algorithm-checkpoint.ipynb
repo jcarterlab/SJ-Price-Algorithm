{
 "cells": [
  {
   "cell_type": "markdown",
   "id": "2833eece",
   "metadata": {},
   "source": [
    "# SJ Price Algorithm"
   ]
  },
  {
   "cell_type": "markdown",
   "id": "81f3c1ef",
   "metadata": {},
   "source": [
    "This notebook creates a pricing algorithm for Saint James hostel that takes into account current demand and anticipated demand at the weekend. It includes the following adjustable parameters: 1) base rate, 2) elasticity, 3) weekend multiplier, and 4) floor ratio."
   ]
  },
  {
   "cell_type": "markdown",
   "id": "3b42663d",
   "metadata": {},
   "source": [
    "## Algorithm"
   ]
  },
  {
   "cell_type": "markdown",
   "id": "a12e4660",
   "metadata": {},
   "source": [
    "[1]\n",
    "$$\n",
    "EA_{𝑖} = (1-(\\frac{S_{𝑖}}{C}))*E\n",
    "$$\n",
    "\n",
    "<br/>\n",
    "\n",
    "Where... \n",
    "* EA = elasticity ajusted rate\n",
    "* S = space (number of beds left)\n",
    "* C = capacity (total number of beds)\n",
    "* E = elasticity (the rate at which the price fluctuates - with 1 as the average)\n",
    "\n",
    "<br/>\n",
    "<br/>\n",
    "\n",
    "[2]\n",
    "$$\n",
    "WA_{𝑖} = (D_{𝑖}=Friday|Saturday)→EA_{𝑖}*W\n",
    "$$\n",
    "\n",
    "<br/>\n",
    "\n",
    "Where... \n",
    "* WA = weekend ajusted rate\n",
    "* → = if / then\n",
    "* D = day of the week\n",
    "* W = weekend multiplier (e.g. 1.45 if 45% more than weekday rates etc.)\n",
    "\n",
    "<br/>\n",
    "<br/>\n",
    "\n",
    "[3]\n",
    "$$\n",
    "FA_{𝑖} = WA_{𝑖}<FR→FR\n",
    "$$\n",
    "\n",
    "Where... \n",
    "* FA = floor ajusted rate\n",
    "* B = base price (can be thought of as an average)\n",
    "* FR = floor ratio (a fraction of the base price - e.g. 0.75 would be 75% of the base price)\n",
    "\n",
    "<br/>\n",
    "<br/>\n",
    "\n",
    "[4]\n",
    "$$\n",
    "P_{𝑖} = FA_{𝑖}*B \n",
    "$$\n",
    "\n",
    "<br/>\n",
    "\n",
    "Where... \n",
    "* P = final price\n",
    "\n",
    "\n",
    "<br/>"
   ]
  },
  {
   "cell_type": "markdown",
   "id": "bfd7f18e",
   "metadata": {},
   "source": [
    "## Adjustable parameters"
   ]
  },
  {
   "cell_type": "markdown",
   "id": "7a0e693f",
   "metadata": {},
   "source": [
    "    * B = base rate\n",
    "    * E = elasticity\n",
    "    * W = weekend multiplier\n",
    "    * FR = floor ratio"
   ]
  },
  {
   "cell_type": "markdown",
   "id": "75fdac87",
   "metadata": {},
   "source": [
    "## Simulations"
   ]
  },
  {
   "cell_type": "markdown",
   "id": "cd54dbe5",
   "metadata": {},
   "source": [
    "A set of simulations are run on example data for the 8 bedroom mixed dorm to see how adjusting the parameters affects the price."
   ]
  },
  {
   "cell_type": "markdown",
   "id": "8274f41b",
   "metadata": {},
   "source": [
    "### Functions"
   ]
  },
  {
   "cell_type": "code",
   "execution_count": 58,
   "id": "ab362462",
   "metadata": {},
   "outputs": [],
   "source": [
    "# imports key libraries\n",
    "import pandas as pd\n",
    "import numpy as np\n",
    "import matplotlib.pyplot as plt\n",
    "\n",
    "# calculates a set of prices based on space and day of the week\n",
    "def calc_prices(S, D, C, B, E, W, FR):\n",
    "    # loops through each day to get a price\n",
    "    prices = []\n",
    "    for i in range(len(S)):\n",
    "        \n",
    "        # elasticity adjusted rate\n",
    "        EA = (1-(S[i] / C)) * E\n",
    "        \n",
    "        # weekend adjusted rate\n",
    "        if D[i] in ['Friday', 'Saturday']:\n",
    "            WA = EA * W\n",
    "        else:\n",
    "            WA = EA\n",
    "            \n",
    "        # floor adjusted rate\n",
    "        if WA < FR:\n",
    "            FA = FR\n",
    "        else:\n",
    "            FA = WA\n",
    "            \n",
    "        # final price\n",
    "        prices.append( round(FA*B, 1) )\n",
    "        \n",
    "    return prices\n",
    "\n",
    "# returns a basic line plot\n",
    "def line_plot(prices, title=''):\n",
    "    s_strings = [str(x) for x in S]\n",
    "    plt.plot(s_strings, prices);\n",
    "    plt.title(title);\n",
    "    plt.xlabel('Space');\n",
    "    plt.ylabel('Price');"
   ]
  },
  {
   "cell_type": "markdown",
   "id": "afef3c89",
   "metadata": {},
   "source": [
    "### Initial parameter settings"
   ]
  },
  {
   "cell_type": "markdown",
   "id": "c090d01b",
   "metadata": {},
   "source": [
    "We can see from the initial parameter settings that the price declines rapidly after more than 2 beds become available, with only the weekend multiplier raising prices slightly after hitting the floor price at 6 beds. This shows us that we should alter the parameters to achieve greater variability in pricing."
   ]
  },
  {
   "cell_type": "code",
   "execution_count": 62,
   "id": "fe778a94",
   "metadata": {},
   "outputs": [
    {
     "data": {
      "image/png": "[encoded data removed]",
      "text/plain": [
       "<Figure size 432x288 with 1 Axes>"
      ]
     },
     "metadata": {
      "needs_background": "light"
     },
     "output_type": "display_data"
    }
   ],
   "source": [
    "# space (beds left over a 2 week period)\n",
    "S = range(1,15)\n",
    "\n",
    "# day (whether a weekend or not)\n",
    "D = ['Friday', 'Saturday', 'Sunday', 'Monday', 'Tuesday', 'Wednesday', 'Thursday',\n",
    "     'Friday', 'Saturday', 'Sunday', 'Monday', 'Tuesday', 'Wednesday', 'Thursday']\n",
    "\n",
    "# capacity (total beds available)\n",
    "C = 24\n",
    "\n",
    "# base price (can be thought of as an average)\n",
    "B = 40\n",
    "\n",
    "# elasticity (with 1 as the average)\n",
    "E = 1\n",
    "\n",
    "# weekend multiplier\n",
    "W = 1.45\n",
    "\n",
    "# floor rate (the lowest possible multilier of the base price)\n",
    "FR = 0.75\n",
    "\n",
    "# calculate prices based on initial params\n",
    "prices = calc_prices(S, D, C, B, E, W, FR)\n",
    "\n",
    "# visualize the results\n",
    "line_plot(prices, title='Standard parameter settings')"
   ]
  }
 ],
 "metadata": {
  "kernelspec": {
   "display_name": "Python 3 (ipykernel)",
   "language": "python",
   "name": "python3"
  },
  "language_info": {
   "codemirror_mode": {
    "name": "ipython",
    "version": 3
   },
   "file_extension": ".py",
   "mimetype": "text/x-python",
   "name": "python",
   "nbconvert_exporter": "python",
   "pygments_lexer": "ipython3",
   "version": "3.10.5"
  }
 },
 "nbformat": 4,
 "nbformat_minor": 5
}
